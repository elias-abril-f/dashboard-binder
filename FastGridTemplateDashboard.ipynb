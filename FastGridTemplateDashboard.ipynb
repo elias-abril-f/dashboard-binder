{
 "cells": [
  {
   "attachments": {},
   "cell_type": "markdown",
   "metadata": {},
   "source": [
    "## Setup"
   ]
  },
  {
   "attachments": {},
   "cell_type": "markdown",
   "metadata": {},
   "source": [
    "Load the required libraries and frameworks"
   ]
  },
  {
   "cell_type": "code",
   "execution_count": null,
   "metadata": {},
   "outputs": [],
   "source": [
    "import holoviews as hv\n",
    "import panel as pn\n",
    "import numpy as np\n",
    "import pandas as pd\n",
    "import re\n",
    "import hvplot.pandas\n",
    "import param\n",
    "import plotly.graph_objects as go\n",
    "\n",
    "from holoviews import opts, dim\n",
    "from panel.template import FastGridTemplate, DarkTheme"
   ]
  },
  {
   "attachments": {},
   "cell_type": "markdown",
   "metadata": {},
   "source": [
    "Load the data and declare the accent colours to be used. (For the graphs will used different ones for each, so they'll be declared at the building function)"
   ]
  },
  {
   "cell_type": "code",
   "execution_count": null,
   "metadata": {},
   "outputs": [],
   "source": [
    "df = pd.read_csv(\"https://raw.githubusercontent.com/elias-abril-f/dashboard-data/main/trips_by_year.csv?token=GHSAT0AAAAAAB5MTXZ6M4E4XFVWULJ3YVTKY65B5FQ\", sep=\",\")\n",
    "df2 = pd.read_csv(\"https://raw.githubusercontent.com/elias-abril-f/dashboard-data/main/trips_by_month.csv?token=GHSAT0AAAAAAB5MTXZ6YKKMVLTXWBSMWRVUY65B5UQ\", sep=\",\")\n",
    "df3 = pd.read_csv(\"https://raw.githubusercontent.com/elias-abril-f/dashboard-data/main/trips_by_hour.csv?token=GHSAT0AAAAAAB5MTXZ637IWDZIU56OIUFOQY65B57Q\", sep=\",\")\n",
    "df3[\"mean\"] = df3[\"trips\"].mean()\n",
    "df4 = pd.read_csv(\"https://raw.githubusercontent.com/elias-abril-f/dashboard-data/main/trips_by_weekday.csv?token=GHSAT0AAAAAAB5MTXZ7P7HBLZSYD3CKXPLIY65B6OQ\", sep=\",\")\n",
    "chordData = pd.read_csv(\"https://raw.githubusercontent.com/elias-abril-f/dashboard-data/main/top10.csv?token=GHSAT0AAAAAAB5MTXZ6I46W7P4H24D3OEYEY65B6VQ\")\n",
    "\n",
    "HEADER_ACCENT = \"#1c1c1c\""
   ]
  },
  {
   "attachments": {},
   "cell_type": "markdown",
   "metadata": {},
   "source": [
    "## Builder functions"
   ]
  },
  {
   "attachments": {},
   "cell_type": "markdown",
   "metadata": {},
   "source": [
    "Create a function to create all the combo bar/line charts that can be drawn based on a widget that lets you select the Y axis. It creates the charts based on a parameterized class, that way the widget (selector, slider or any other type) is linked automaticaly, and the chart gets created by calling a self function and sent to a view function that creates a dynamic map, ensuring the chart will update as soon as anything is changed.\n",
    "\n",
    "If you want to know how this custom class works, go to the end, there is a in depth explanation of the inner workings"
   ]
  },
  {
   "cell_type": "code",
   "execution_count": null,
   "metadata": {},
   "outputs": [],
   "source": [
    "def _create_barandlinewidget(data, x, main, accent, title=\"title\"):\n",
    "    class Plot(param.Parameterized):\n",
    "        column = param.ObjectSelector(default=f\"trips({x})\", objects=[f\"duration({x})\", f\"trips({x})\"])\n",
    "        \n",
    "        @param.depends('column')\n",
    "        def create_plot(self):\n",
    "            def hooks(plot, element):\n",
    "                p = plot.state\n",
    "                p.toolbar.autohide= True\n",
    "                p.toolbar.logo = None\n",
    "                if \"trips\" in self.column:\n",
    "                    p.yaxis.ticker=[0,2000000,4000000,6000000,8000000]\n",
    "                    p.yaxis.major_label_overrides={0:\"0\",2000000:\"2M\",4000000:\"4M\",6000000:\"6M\",8000000:\"8M\"} \n",
    "                else:\n",
    "                    p.yaxis.ticker = np.arange(0, 1400, 200)\n",
    "                    p.yaxis.major_label.overrides={0:\"0\", 200:\"200\", 400:\"400\", 600:\"600\", 800:\"800\", 1000:\"1000\",1200:\"1200\", 1400:\"1400\"}\n",
    "    \n",
    "            \n",
    "            plot = data.hvplot.bar(x,\n",
    "                                self.column,\n",
    "                                color=main,\n",
    "                                line_color=\"white\",\n",
    "                                xlabel=str(x).capitalize(),\n",
    "                                ylabel=re.sub(r\"\\([a-z,A-Z]*\\)\",\"\", str(self.column)).capitalize(),\n",
    "                                responsive=True).opts(hooks=[hooks],legend_position='bottom_right') \\\n",
    "                                * data.hvplot.line(x,\n",
    "                                                   f\"mean{self.column}\",\n",
    "                                                   color=accent,\n",
    "                                                   line_color=\"white\",\n",
    "                                                   responsive=True, \n",
    "                                                   label=\"Mean\")\n",
    "            return plot\n",
    "\n",
    "    plot = Plot()\n",
    "    dmap = hv.DynamicMap(plot.create_plot)\n",
    "    return pn.Column(\n",
    "        pn.Param(plot.param, name=title, show_labels=False, width = 500),\n",
    "        dmap, sizing_mode=\"stretch_both\")\n",
    "    "
   ]
  },
  {
   "attachments": {},
   "cell_type": "markdown",
   "metadata": {},
   "source": [
    "Same as the previoius chart, but without a dropdown widget, as this chart doesn't have multiple metrics to show. "
   ]
  },
  {
   "cell_type": "code",
   "execution_count": null,
   "metadata": {},
   "outputs": [],
   "source": [
    "def _create_barandline(data, main, accent, title=\"Title\"):\n",
    "    \n",
    "    class Plot(param.Parameterized):        \n",
    "        def create_plot(self):\n",
    "            \n",
    "            def hooks(plot, element):\n",
    "                p = plot.state\n",
    "                p.toolbar.autohide = True\n",
    "                p.toolbar.logo = None\n",
    "                p.yaxis.ticker=[0,2000000,4000000,6000000,8000000]\n",
    "                p.yaxis.major_label_overrides={0:\"0\",2000000:\"2M\",4000000:\"4M\",6000000:\"6M\",8000000:\"8M\"} \n",
    "                \n",
    "            return data.hvplot(kind=\"bar\",\n",
    "                            x=\"time\",\n",
    "                            title=title,\n",
    "                            y=\"trips\",\n",
    "                            color=main,\n",
    "                            xlabel=\"Hour\",\n",
    "                            line_color=\"white\",\n",
    "                            responsive=True,\n",
    "                            min_width=350,\n",
    "                            min_height=250,\n",
    "                            ylabel=\"Trips\",\n",
    "                            label=\"Trips\").opts(legend_position='right', hooks=[hooks]) \\\n",
    "                                * data.hvplot(kind=\"line\",\n",
    "                                            x=\"time\",\n",
    "                                            y=\"mean\",\n",
    "                                            responsive=True,\n",
    "                                            color = accent, \n",
    "                                            line_color=\"white\",\n",
    "                                            label=\"Mean\")\n",
    "        def view(self):\n",
    "            plot = hv.DynamicMap(self.create_plot)\n",
    "            return plot\n",
    "        \n",
    "    p = Plot()\n",
    "    return pn.Column(p.view, sizing_mode=\"stretch_both\", margin=(-20,0))"
   ]
  },
  {
   "attachments": {},
   "cell_type": "markdown",
   "metadata": {},
   "source": [
    "Now we create a map with all the docks. In this case, we remove the X and Y axis, since they dont offer any useful information.\n",
    "\n",
    "Same as the other interactive plots that use panel widgets or parameters to filter or select data, we need to be careful not to have the same names (as in the columns or other keys used to select the target of the widget), because if the keyword is the same in different widgets, the plots targeted by those two widgets will become linked. The easiest solution is to name every data column (if using pandas dataframes) something different, for example, relating it to the general dataframe. Eg: if we have two dataframes df1 and df2 with the same columns height and width, we will name the columns height(df1) weight(df1) and height(df2) weight(df2)"
   ]
  },
  {
   "attachments": {},
   "cell_type": "markdown",
   "metadata": {},
   "source": [
    "As you can see, this map has a slider that acts as a filter, showing you the most popular stations to start a trip starting at the value selected in the slider. \n",
    "It works the same way as the other charts with widgets. The function creates a class with a function to create the plot/map, another one to create the dynamic map view and a hooks function to modify the look of the chart/map."
   ]
  },
  {
   "cell_type": "code",
   "execution_count": null,
   "metadata": {},
   "outputs": [],
   "source": [
    "# maybe use geoviews in the future instead of hvplot for the map or folio leaflet\n",
    "def create_map(url, title=\"title\"):\n",
    "    class Map(param.Parameterized):\n",
    "        \n",
    "        data = pd.read_csv(url)\n",
    "        value = param.Integer(default=97, bounds=(min(data[\"value\"]), 300000))\n",
    "        \n",
    "        @param.depends('value')\n",
    "        def create_map(self):\n",
    "            def hooks(plot, element):\n",
    "                p = plot.state\n",
    "                p.toolbar.autohide= True\n",
    "                p.toolbar.logo = None\n",
    "            df = self.data.loc[self.data[\"value\"] >= self.value]\n",
    "            return df.hvplot.points('lon', 'lat',\n",
    "                                    geo=True, \n",
    "                                    tiles=True, \n",
    "                                    hover_cols=[\"station\",\"value\"],\n",
    "                                    xaxis=None, \n",
    "                                    yaxis=None, \n",
    "                                    color=\"#303030\",\n",
    "                                    responsive=True).opts(hooks=[hooks], \n",
    "                                                          framewise=True)\n",
    "        @param.depends(\"value\")\n",
    "        def view(self):\n",
    "            return hv.DynamicMap(self.create_map)\n",
    "    map = Map()\n",
    "    return pn.Column(\n",
    "        pn.Param(map.param, name=title, show_labels=False, sizing_mode=\"stretch_both\"),\n",
    "        map.view, sizing_mode=\"stretch_both\")\n",
    "    \n"
   ]
  },
  {
   "cell_type": "code",
   "execution_count": null,
   "metadata": {},
   "outputs": [],
   "source": [
    "def createChord():\n",
    "    from bokeh.models import HoverTool\n",
    "    from bokeh.plotting import ColumnDataSource\n",
    "    links = chordData[[\"source_id\", \"target_id\", \"value\"]]\n",
    "    \n",
    "    def hooks(plot, element):\n",
    "        p = plot.state\n",
    "        p.toolbar.logo = None\n",
    "        p.toolbar.autohide=True\n",
    "  \n",
    "    nodes = hv.Dataset(pd.DataFrame(\n",
    "    [{'index': 0,'name': \"Hyde Park Corner, Hyde Park\"},\n",
    "    {'index': 1,'name': \"Albert Gate, Hyde Park\"},\n",
    "    {'index': 2,'name': \"Triangle Car Park, Hyde Park\"},\n",
    "    {'index': 3,'name': \"Black Lion Gate, Kensington Gardens\"},\n",
    "    {'index': 4,'name': \"Serpentine Car Park, Hyde Park\"},\n",
    "    {'index': 5,'name': \"Park Lane , Hyde Park\"},\n",
    "    {'index': 6,'name': \"Queen's Gate, Kensington Gardens\"},\n",
    "    {'index': 7,'name': \"Palace Gate, Kensington Gardens\"},\n",
    "    {'index': 8,'name': \"Bayswater Road, Hyde Park\"},\n",
    "    {'index': 9,'name': \"Wellington Arch, Hyde Park\"},\n",
    "    {'index': 10,'name': \"Red Lion Street, Holborn\"},\n",
    "    {'index': 11,'name': \"Soho Square , Soho\"},\n",
    "    {'index': 12,'name': \"Holborn Circus, Holborn\"},\n",
    "    {'index': 13,'name': \"Wren Street, Holborn\"},\n",
    "    {'index': 14,'name': \"Great Marlborough St, Soho\"},\n",
    "    {'index': 15,'name': \"Bayley Street , Bloomsbury\"},\n",
    "    {'index': 16,'name': \"Guilford Street , Bloomsbury\"},\n",
    "    {'index': 17,'name': \"Newgate Street , St. Paul's\"},\n",
    "    {'index': 18,'name': \"Theobald's Road , Holborn\"},\n",
    "    {'index': 19,'name': \"British Museum, Bloomsbury\"},\n",
    "    {'index': 20,'name': \"Godliman Street, St. Paul's\"},\n",
    "    {'index': 21,'name': \"Queen Victoria Street, St. Paul's\"},\n",
    "    {'index': 22,'name': \"Queen Street 2, Bank\"},\n",
    "    {'index': 23,'name': \"Wormwood Street, Liverpool Street\"},\n",
    "    {'index': 24,'name': \"Queen Street 1, Bank\"},\n",
    "    {'index': 25,'name': \"Finsbury Circus, Liverpool Street\"},\n",
    "    {'index': 26,'name': \"St. Bride Street, Holborn\"},\n",
    "    {'index': 27,'name': \"Cheapside, Bank\"},\n",
    "    {'index': 28,'name': \"Moorfields, Moorgate\"},\n",
    "    {'index': 29,'name': \"Speakers' Corner 1, Hyde Park\"},\n",
    "    {'index': 30,'name': \"Exhibition Road, Knightsbridge\"},\n",
    "    {'index': 31,'name': \"Hop Exchange, The Borough\"},\n",
    "    {'index': 32,'name': \"Bankside Mix, Bankside\"},\n",
    "    {'index': 33,'name': \"Storey's Gate, Westminster\"},\n",
    "    {'index': 34,'name': \"Craven Street, Strand\"},\n",
    "    {'index': 35,'name': \"Green Park Station, Mayfair\"},\n",
    "    {'index': 36,'name': \"Stamford Street, South Bank\"},\n",
    "    {'index': 37,'name': \"Waterloo Station 1, Waterloo\"},\n",
    "    {'index': 38,'name': \"Milroy Walk, South Bank\"},\n",
    "    {'index': 39,'name': \"Lavington Street, Bankside\"},\n",
    "    {'index': 40,'name': \"Poured Lines, Bankside\"},\n",
    "    {'index': 41,'name': \"Baylis Road, Waterloo\"},\n",
    "    {'index': 42,'name': \"Waterloo Station 3, Waterloo\"},\n",
    "    {'index': 43,'name': \"Duke Street Hill, London Bridge\"},\n",
    "    {'index': 44,'name': \"Whitehall Place, Strand\"},\n",
    "    {'index': 45,'name': \"Tooley Street, Bermondsey\"},\n",
    "    {'index': 46,'name': \"Tate Modern, Bankside\"},\n",
    "    {'index': 47,'name': \"Waterloo Station 2, Waterloo\"},\n",
    "    {'index': 48,'name': \"Belgrove Street , King's Cross\"}]), 'index')\n",
    "    \n",
    "    plot = hv.Chord((links,nodes), ).select(value=(5, None)).opts(cmap='Pastel1',\n",
    "                                                                  edge_cmap='Pastel1',\n",
    "                                                                  edge_color=dim('source_id').str(),\n",
    "                                                                  node_color=dim('index').str(),\n",
    "                                                                  responsive=True, \n",
    "                                                                  hooks=[hooks], \n",
    "                                                                  title=\"Most popular stations and their most popular trips\",#labels=\"name\",\n",
    "                                                                  label_text_color=\"white\",\n",
    "                                                                  legend_position = \"right\")\n",
    "    \n",
    "    return pn.Column(plot, sizing_mode=\"stretch_both\")\n"
   ]
  },
  {
   "attachments": {},
   "cell_type": "markdown",
   "metadata": {},
   "source": [
    "## Creation of the template"
   ]
  },
  {
   "attachments": {},
   "cell_type": "markdown",
   "metadata": {},
   "source": [
    "Now we create the template to make our dashboard look good with minimal effort. In this case I chose the fastgridtemplate, as it allows the user to move and resize the panels, and as you might have noticed, all our charts and maps are responsive, which means they will change in size as we change the size of the panels or our explorer window.\n",
    "Also here we can create a header (and change its colours) and a sidebar (not used in this case). As well as other things like the panel collision, the height of the grid rows and other options. "
   ]
  },
  {
   "cell_type": "code",
   "execution_count": null,
   "metadata": {},
   "outputs": [],
   "source": [
    "def main():\n",
    "    template = FastGridTemplate(\n",
    "        title=\"London TFL Bike Journeys Dashboard\",\n",
    "        row_height=55,\n",
    "        prevent_collision=True,\n",
    "        save_layout=True,\n",
    "        accent_base_color=HEADER_ACCENT,\n",
    "        header_background=HEADER_ACCENT,\n",
    "        theme=DarkTheme,\n",
    "        theme_toggle=False,\n",
    "        sidebar = [pn.pane.Markdown(\"# **INSTRUCTIONS**\\n- All the panels are fully resoponsive. You can move them and resize them and their content adapts to the new size\\n\\n- Click and drat a panel from the top left corner to move it. \\n\\n- Collitions as diabled to avoid panels jumping all over the place. Move a panel out of the way before attempting to move another one into that spot. \\n\\n- Click and drag the bottom right corner to resize a panel.\\n\\n- If you press the top right corner you can see that panel fullscreen\\n\\n- Click the hamburger menu in the header to close the sidebar and enjoy the dashboard full size. \\n\\n- In the right end of the header you have 2 icons. The first one reset the layout and the second one is the activity indicator\")]\n",
    "    )\n",
    "    template.main[ :8, :6] = create_map(\"https://raw.githubusercontent.com/elias-abril-f/dashboard-data/main/stations_start.csv\", title=\"Docks and total amount of trips started from them. Move the slider to filter.\")\n",
    "    template.main[:7, 6:12] = _create_barandlinewidget(df2, x=\"month\", main = \"#FFD289\", accent = \"#FACC6B\", title=\"Trips and their average duration by month\")\n",
    "    template.main[7:8, 6:12] = pn.pane.Markdown(\"      # Total Trips: 76450245\",style={\"margin-top\":\"-30px\", \"padding\":\"0,0,0,0\"}, width=400, height=0, )\n",
    "    template.main[8:13, 0:12] = _create_barandline(data=df3, main=\"#78C0E0\", accent=\"#449DD1\", title=\"Trips by time of day\")\n",
    "    template.main[13:19, 0:5] = _create_barandlinewidget(data=df, x=\"year\", main=\"#EFC3E6\", accent=\"#9C89B8\", title=\"Trips and their average duration by year\")\n",
    "    template.main[19:20,0:5] = pn.Row(pn.pane.Markdown(\"#    🚴🚴🚴   Over 800 Docks   🚴🚴🚴\",style={\"margin-top\": \"-25px\"}, width=400, height=10), scroll=False)\n",
    "    template.main[21:31, 0:12] = pn.Column(pn.pane.Markdown(\"## Explore a dataset. Change the settings, kind of graph, axis, labels... and see the results live!\"),hvplot.explorer(df4))\n",
    "    template.main[13:21, 5:12] = createChord()\n",
    "    template.main[40:40, 0:12] = pn.Spacer()\n",
    "    return template"
   ]
  }
 ],
 "metadata": {
  "kernelspec": {
   "display_name": "PandasProject",
   "language": "python",
   "name": "python3"
  },
  "language_info": {
   "codemirror_mode": {
    "name": "ipython",
    "version": 3
   },
   "file_extension": ".py",
   "mimetype": "text/x-python",
   "name": "python",
   "nbconvert_exporter": "python",
   "pygments_lexer": "ipython3",
   "version": "3.11.0 (main, Nov  2 2022, 21:01:35) [GCC 12.2.0]"
  },
  "orig_nbformat": 4,
  "vscode": {
   "interpreter": {
    "hash": "4d7f6ab8965084dc52073a2d8482314ba311c7495bf7c7a9639db5992bb0532a"
   }
  }
 },
 "nbformat": 4,
 "nbformat_minor": 2
}
