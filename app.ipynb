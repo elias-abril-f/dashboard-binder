{
 "cells": [
  {
   "cell_type": "code",
   "execution_count": null,
   "metadata": {},
   "outputs": [],
   "source": [
    "from code import main\n",
    "main().servable()"
   ]
  }
 ],
 "metadata": {
  "kernelspec": {
   "display_name": "PandasProject",
   "language": "python",
   "name": "python3"
  },
  "language_info": {
   "name": "python",
   "version": "3.11.0 (main, Nov  2 2022, 21:01:35) [GCC 12.2.0]"
  },
  "orig_nbformat": 4,
  "vscode": {
   "interpreter": {
    "hash": "4d7f6ab8965084dc52073a2d8482314ba311c7495bf7c7a9639db5992bb0532a"
   }
  }
 },
 "nbformat": 4,
 "nbformat_minor": 2
}
